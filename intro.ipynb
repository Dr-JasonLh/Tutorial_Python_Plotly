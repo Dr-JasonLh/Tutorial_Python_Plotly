{
 "cells": [
  {
   "cell_type": "code",
   "execution_count": 1,
   "metadata": {},
   "outputs": [],
   "source": [
    "import numpy as np\n",
    "import pandas as pd\n",
    "\n",
    "import plotly\n",
    "import plotly.graph_objects as go\n",
    "import plotly.express as px"
   ]
  },
  {
   "cell_type": "code",
   "execution_count": 2,
   "metadata": {},
   "outputs": [],
   "source": [
    "x=[1,2,3]\n",
    "y=[4,5,6]"
   ]
  },
  {
   "cell_type": "code",
   "execution_count": 3,
   "metadata": {},
   "outputs": [
    {
     "name": "stdout",
     "output_type": "stream",
     "text": [
      "go.Figure: <class 'plotly.graph_objs._figure.Figure'>\n",
      "\n",
      "Figure({\n",
      "    'data': [{'type': 'scatter', 'x': [1, 2, 3], 'y': [4, 5, 6]}], 'layout': {'template': '...'}\n",
      "})\n"
     ]
    }
   ],
   "source": [
    "trace = go.Scatter(\n",
    "    x=x,\n",
    "    y=y,\n",
    ")\n",
    "fig_go = go.Figure(\n",
    "    data=[\n",
    "        trace,\n",
    "    ],\n",
    ")\n",
    "\n",
    "print(\"go.Figure: {}\\n\\n{}\".format(type(fig_go), fig_go))\n"
   ]
  },
  {
   "cell_type": "code",
   "execution_count": 4,
   "metadata": {},
   "outputs": [
    {
     "name": "stdout",
     "output_type": "stream",
     "text": [
      "px.Scatter: <class 'plotly.graph_objs._figure.Figure'>\n",
      "\n",
      "Figure({\n",
      "    'data': [{'hovertemplate': 'x=%{x}<br>y=%{y}<extra></extra>',\n",
      "              'legendgroup': '',\n",
      "              'marker': {'color': '#636efa', 'symbol': 'circle'},\n",
      "              'mode': 'markers',\n",
      "              'name': '',\n",
      "              'orientation': 'v',\n",
      "              'showlegend': False,\n",
      "              'type': 'scatter',\n",
      "              'x': array([1, 2, 3], dtype=int64),\n",
      "              'xaxis': 'x',\n",
      "              'y': array([4, 5, 6], dtype=int64),\n",
      "              'yaxis': 'y'}],\n",
      "    'layout': {'legend': {'tracegroupgap': 0},\n",
      "               'margin': {'t': 60},\n",
      "               'template': '...',\n",
      "               'xaxis': {'anchor': 'y', 'domain': [0.0, 1.0], 'title': {'text': 'x'}},\n",
      "               'yaxis': {'anchor': 'x', 'domain': [0.0, 1.0], 'title': {'text': 'y'}}}\n",
      "})\n"
     ]
    }
   ],
   "source": [
    "fig_px = px.scatter(\n",
    "    x=x,\n",
    "    y=y,\n",
    ")\n",
    "\n",
    "print(\"px.Scatter: {}\\n\\n{}\".format(type(fig_px), fig_px))"
   ]
  }
 ],
 "metadata": {
  "kernelspec": {
   "display_name": "Python 3.8.12 ('PyTorch')",
   "language": "python",
   "name": "python3"
  },
  "language_info": {
   "codemirror_mode": {
    "name": "ipython",
    "version": 3
   },
   "file_extension": ".py",
   "mimetype": "text/x-python",
   "name": "python",
   "nbconvert_exporter": "python",
   "pygments_lexer": "ipython3",
   "version": "3.8.12"
  },
  "orig_nbformat": 4,
  "vscode": {
   "interpreter": {
    "hash": "eac81d4f0e315de7a0a37a11f724d8a78d91884e8f9cf6a19606d221decde3a5"
   }
  }
 },
 "nbformat": 4,
 "nbformat_minor": 2
}
